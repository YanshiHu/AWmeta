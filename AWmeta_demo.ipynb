{
 "cells": [
  {
   "cell_type": "markdown",
   "metadata": {},
   "source": [
    "# This is a demo to implement step-by-step AWmeta analysis"
   ]
  },
  {
   "cell_type": "markdown",
   "metadata": {},
   "source": [
    "### 1️⃣ Make sure you have opened AWmeta folder:"
   ]
  },
  {
   "cell_type": "code",
   "execution_count": null,
   "metadata": {
    "vscode": {
     "languageId": "r"
    }
   },
   "outputs": [
    {
     "data": {
      "text/html": [
       "'/root/AWmeta'"
      ],
      "text/latex": [
       "'/root/AWmeta'"
      ],
      "text/markdown": [
       "'/root/AWmeta'"
      ],
      "text/plain": [
       "[1] \"/root/AWmeta\""
      ]
     },
     "metadata": {},
     "output_type": "display_data"
    }
   ],
   "source": [
    "getwd()"
   ]
  },
  {
   "cell_type": "markdown",
   "metadata": {},
   "source": [
    "### 2️⃣ Raw gene expression and corresponding clinical/phenotype files, should be stored in separate folders:\n",
    "- Raw expression matrix files in [./data/raw_expr](https://github.com/YanshiHu/AWmeta/tree/main/data/raw_expr).\n",
    "- Corresponding clinical/phenotype files in [./data/raw_clin](https://github.com/YanshiHu/AWmeta/tree/main/data/raw_clin)."
   ]
  },
  {
   "cell_type": "code",
   "execution_count": 8,
   "metadata": {
    "vscode": {
     "languageId": "r"
    }
   },
   "outputs": [
    {
     "name": "stdout",
     "output_type": "stream",
     "text": [
      "[1] GSE165082.csv GSE18838.csv  GSE34287.csv  GSE54536.csv  GSE57475.csv \n",
      "[6] GSE6613.csv   GSE72267.csv  GSE99039.csv \n"
     ]
    }
   ],
   "source": [
    "# Raw expression matrix files should be stored in a directory:\n",
    "\n",
    "print(list.files(\"/root/AWmeta/data/raw_expr\"), quote = FALSE, sep = \"\\n\")"
   ]
  },
  {
   "cell_type": "code",
   "execution_count": 9,
   "metadata": {
    "vscode": {
     "languageId": "r"
    }
   },
   "outputs": [
    {
     "name": "stdout",
     "output_type": "stream",
     "text": [
      "[1] GSE165082_pheno.csv GSE18838_pheno.csv  GSE34287_pheno.csv \n",
      "[4] GSE54536_pheno.csv  GSE57475_pheno.csv  GSE6613_pheno.csv  \n",
      "[7] GSE72267_pheno.csv  GSE99039_pheno.csv \n"
     ]
    }
   ],
   "source": [
    "# Corresponding clinical/phenotype files should be stored in a directory:\n",
    "\n",
    "print(list.files(\"/root/AWmeta/data/raw_clin\"), quote = FALSE, sep = \"\\n\")"
   ]
  },
  {
   "cell_type": "markdown",
   "metadata": {},
   "source": [
    "### 3️⃣ Raw gene expression data files, should be formatted as follows:\n",
    "- `Row Name`:   \n",
    "    - gene identifier, e.g., Entrez Gene ID (used here), Ensembl gene ID, gene symbol.\n",
    "- `Col Name`:\n",
    "    - sample identifier.\n",
    "- `Separator`:\n",
    "    - comma (\",\") used here.\n",
    "\n",
    "⚠️ TO BE NOTED:\n",
    "-  Microarray datasets should be processed to normalized intensity signals by limma, affy, or other relevant packages.\n",
    "-  RNA-seq datasets should contain gene count matrices, quantified by featureCounts, STAR, or other related tools."
   ]
  },
  {
   "cell_type": "code",
   "execution_count": 15,
   "metadata": {
    "vscode": {
     "languageId": "r"
    }
   },
   "outputs": [
    {
     "data": {
      "text/html": [
       "<table class=\"dataframe\">\n",
       "<caption>A data.frame: 6 × 28</caption>\n",
       "<thead>\n",
       "\t<tr><th></th><th scope=col>GSM466881</th><th scope=col>GSM466882</th><th scope=col>GSM466883</th><th scope=col>GSM466884</th><th scope=col>GSM466885</th><th scope=col>GSM466886</th><th scope=col>GSM466887</th><th scope=col>GSM466888</th><th scope=col>GSM466889</th><th scope=col>GSM466890</th><th scope=col>⋯</th><th scope=col>GSM466899</th><th scope=col>GSM466900</th><th scope=col>GSM466901</th><th scope=col>GSM466902</th><th scope=col>GSM466903</th><th scope=col>GSM466904</th><th scope=col>GSM466905</th><th scope=col>GSM466906</th><th scope=col>GSM466907</th><th scope=col>GSM466908</th></tr>\n",
       "\t<tr><th></th><th scope=col>&lt;dbl&gt;</th><th scope=col>&lt;dbl&gt;</th><th scope=col>&lt;dbl&gt;</th><th scope=col>&lt;dbl&gt;</th><th scope=col>&lt;dbl&gt;</th><th scope=col>&lt;dbl&gt;</th><th scope=col>&lt;dbl&gt;</th><th scope=col>&lt;dbl&gt;</th><th scope=col>&lt;dbl&gt;</th><th scope=col>&lt;dbl&gt;</th><th scope=col>⋯</th><th scope=col>&lt;dbl&gt;</th><th scope=col>&lt;dbl&gt;</th><th scope=col>&lt;dbl&gt;</th><th scope=col>&lt;dbl&gt;</th><th scope=col>&lt;dbl&gt;</th><th scope=col>&lt;dbl&gt;</th><th scope=col>&lt;dbl&gt;</th><th scope=col>&lt;dbl&gt;</th><th scope=col>&lt;dbl&gt;</th><th scope=col>&lt;dbl&gt;</th></tr>\n",
       "</thead>\n",
       "<tbody>\n",
       "\t<tr><th scope=row>1</th><td>5.974322</td><td>5.529198</td><td>5.905892</td><td>5.869029</td><td>5.450818</td><td>5.718872</td><td>5.972054</td><td>5.574497</td><td>5.248609</td><td>6.056391</td><td>⋯</td><td>5.762262</td><td>6.146706</td><td>5.674313</td><td>5.849043</td><td>5.326472</td><td>5.713848</td><td>5.585179</td><td>5.572774</td><td>6.004133</td><td>5.933502</td></tr>\n",
       "\t<tr><th scope=row>10</th><td>1.766114</td><td>1.478747</td><td>1.818198</td><td>1.889750</td><td>1.549316</td><td>1.932048</td><td>1.942990</td><td>2.261588</td><td>1.634396</td><td>2.521888</td><td>⋯</td><td>2.064368</td><td>3.498965</td><td>1.904373</td><td>1.877441</td><td>1.815903</td><td>1.847098</td><td>2.169656</td><td>1.537277</td><td>1.919092</td><td>2.457791</td></tr>\n",
       "\t<tr><th scope=row>100</th><td>6.340801</td><td>6.246526</td><td>6.246568</td><td>6.500481</td><td>6.035279</td><td>6.276709</td><td>5.721718</td><td>5.947306</td><td>6.225666</td><td>6.166099</td><td>⋯</td><td>6.168828</td><td>6.141265</td><td>6.081029</td><td>6.212898</td><td>6.266483</td><td>6.294748</td><td>6.297601</td><td>6.207059</td><td>6.594319</td><td>6.400845</td></tr>\n",
       "\t<tr><th scope=row>1000</th><td>3.279626</td><td>3.066588</td><td>3.461183</td><td>3.164990</td><td>3.017854</td><td>3.131056</td><td>3.603721</td><td>3.109295</td><td>3.164006</td><td>3.897606</td><td>⋯</td><td>3.282294</td><td>3.653656</td><td>3.277332</td><td>2.978603</td><td>3.848394</td><td>2.937089</td><td>3.739835</td><td>3.380353</td><td>3.449250</td><td>3.105334</td></tr>\n",
       "\t<tr><th scope=row>10000</th><td>4.696992</td><td>4.467682</td><td>3.750259</td><td>4.430248</td><td>4.604152</td><td>4.366680</td><td>4.818588</td><td>4.377542</td><td>4.968625</td><td>3.752643</td><td>⋯</td><td>4.687619</td><td>4.206344</td><td>4.889710</td><td>4.497731</td><td>4.431595</td><td>4.070111</td><td>4.120799</td><td>4.165406</td><td>3.863490</td><td>4.052750</td></tr>\n",
       "\t<tr><th scope=row>100008586</th><td>2.582434</td><td>2.682665</td><td>2.990375</td><td>2.120916</td><td>2.122672</td><td>2.633500</td><td>2.920980</td><td>2.014738</td><td>2.598039</td><td>3.368453</td><td>⋯</td><td>3.730438</td><td>2.679535</td><td>2.463807</td><td>1.928015</td><td>1.979664</td><td>2.896218</td><td>2.551836</td><td>2.482334</td><td>2.784737</td><td>3.352059</td></tr>\n",
       "</tbody>\n",
       "</table>\n"
      ],
      "text/latex": [
       "A data.frame: 6 × 28\n",
       "\\begin{tabular}{r|lllllllllllllllllllll}\n",
       "  & GSM466881 & GSM466882 & GSM466883 & GSM466884 & GSM466885 & GSM466886 & GSM466887 & GSM466888 & GSM466889 & GSM466890 & ⋯ & GSM466899 & GSM466900 & GSM466901 & GSM466902 & GSM466903 & GSM466904 & GSM466905 & GSM466906 & GSM466907 & GSM466908\\\\\n",
       "  & <dbl> & <dbl> & <dbl> & <dbl> & <dbl> & <dbl> & <dbl> & <dbl> & <dbl> & <dbl> & ⋯ & <dbl> & <dbl> & <dbl> & <dbl> & <dbl> & <dbl> & <dbl> & <dbl> & <dbl> & <dbl>\\\\\n",
       "\\hline\n",
       "\t1 & 5.974322 & 5.529198 & 5.905892 & 5.869029 & 5.450818 & 5.718872 & 5.972054 & 5.574497 & 5.248609 & 6.056391 & ⋯ & 5.762262 & 6.146706 & 5.674313 & 5.849043 & 5.326472 & 5.713848 & 5.585179 & 5.572774 & 6.004133 & 5.933502\\\\\n",
       "\t10 & 1.766114 & 1.478747 & 1.818198 & 1.889750 & 1.549316 & 1.932048 & 1.942990 & 2.261588 & 1.634396 & 2.521888 & ⋯ & 2.064368 & 3.498965 & 1.904373 & 1.877441 & 1.815903 & 1.847098 & 2.169656 & 1.537277 & 1.919092 & 2.457791\\\\\n",
       "\t100 & 6.340801 & 6.246526 & 6.246568 & 6.500481 & 6.035279 & 6.276709 & 5.721718 & 5.947306 & 6.225666 & 6.166099 & ⋯ & 6.168828 & 6.141265 & 6.081029 & 6.212898 & 6.266483 & 6.294748 & 6.297601 & 6.207059 & 6.594319 & 6.400845\\\\\n",
       "\t1000 & 3.279626 & 3.066588 & 3.461183 & 3.164990 & 3.017854 & 3.131056 & 3.603721 & 3.109295 & 3.164006 & 3.897606 & ⋯ & 3.282294 & 3.653656 & 3.277332 & 2.978603 & 3.848394 & 2.937089 & 3.739835 & 3.380353 & 3.449250 & 3.105334\\\\\n",
       "\t10000 & 4.696992 & 4.467682 & 3.750259 & 4.430248 & 4.604152 & 4.366680 & 4.818588 & 4.377542 & 4.968625 & 3.752643 & ⋯ & 4.687619 & 4.206344 & 4.889710 & 4.497731 & 4.431595 & 4.070111 & 4.120799 & 4.165406 & 3.863490 & 4.052750\\\\\n",
       "\t100008586 & 2.582434 & 2.682665 & 2.990375 & 2.120916 & 2.122672 & 2.633500 & 2.920980 & 2.014738 & 2.598039 & 3.368453 & ⋯ & 3.730438 & 2.679535 & 2.463807 & 1.928015 & 1.979664 & 2.896218 & 2.551836 & 2.482334 & 2.784737 & 3.352059\\\\\n",
       "\\end{tabular}\n"
      ],
      "text/markdown": [
       "\n",
       "A data.frame: 6 × 28\n",
       "\n",
       "| <!--/--> | GSM466881 &lt;dbl&gt; | GSM466882 &lt;dbl&gt; | GSM466883 &lt;dbl&gt; | GSM466884 &lt;dbl&gt; | GSM466885 &lt;dbl&gt; | GSM466886 &lt;dbl&gt; | GSM466887 &lt;dbl&gt; | GSM466888 &lt;dbl&gt; | GSM466889 &lt;dbl&gt; | GSM466890 &lt;dbl&gt; | ⋯ ⋯ | GSM466899 &lt;dbl&gt; | GSM466900 &lt;dbl&gt; | GSM466901 &lt;dbl&gt; | GSM466902 &lt;dbl&gt; | GSM466903 &lt;dbl&gt; | GSM466904 &lt;dbl&gt; | GSM466905 &lt;dbl&gt; | GSM466906 &lt;dbl&gt; | GSM466907 &lt;dbl&gt; | GSM466908 &lt;dbl&gt; |\n",
       "|---|---|---|---|---|---|---|---|---|---|---|---|---|---|---|---|---|---|---|---|---|---|\n",
       "| 1 | 5.974322 | 5.529198 | 5.905892 | 5.869029 | 5.450818 | 5.718872 | 5.972054 | 5.574497 | 5.248609 | 6.056391 | ⋯ | 5.762262 | 6.146706 | 5.674313 | 5.849043 | 5.326472 | 5.713848 | 5.585179 | 5.572774 | 6.004133 | 5.933502 |\n",
       "| 10 | 1.766114 | 1.478747 | 1.818198 | 1.889750 | 1.549316 | 1.932048 | 1.942990 | 2.261588 | 1.634396 | 2.521888 | ⋯ | 2.064368 | 3.498965 | 1.904373 | 1.877441 | 1.815903 | 1.847098 | 2.169656 | 1.537277 | 1.919092 | 2.457791 |\n",
       "| 100 | 6.340801 | 6.246526 | 6.246568 | 6.500481 | 6.035279 | 6.276709 | 5.721718 | 5.947306 | 6.225666 | 6.166099 | ⋯ | 6.168828 | 6.141265 | 6.081029 | 6.212898 | 6.266483 | 6.294748 | 6.297601 | 6.207059 | 6.594319 | 6.400845 |\n",
       "| 1000 | 3.279626 | 3.066588 | 3.461183 | 3.164990 | 3.017854 | 3.131056 | 3.603721 | 3.109295 | 3.164006 | 3.897606 | ⋯ | 3.282294 | 3.653656 | 3.277332 | 2.978603 | 3.848394 | 2.937089 | 3.739835 | 3.380353 | 3.449250 | 3.105334 |\n",
       "| 10000 | 4.696992 | 4.467682 | 3.750259 | 4.430248 | 4.604152 | 4.366680 | 4.818588 | 4.377542 | 4.968625 | 3.752643 | ⋯ | 4.687619 | 4.206344 | 4.889710 | 4.497731 | 4.431595 | 4.070111 | 4.120799 | 4.165406 | 3.863490 | 4.052750 |\n",
       "| 100008586 | 2.582434 | 2.682665 | 2.990375 | 2.120916 | 2.122672 | 2.633500 | 2.920980 | 2.014738 | 2.598039 | 3.368453 | ⋯ | 3.730438 | 2.679535 | 2.463807 | 1.928015 | 1.979664 | 2.896218 | 2.551836 | 2.482334 | 2.784737 | 3.352059 |\n",
       "\n"
      ],
      "text/plain": [
       "          GSM466881 GSM466882 GSM466883 GSM466884 GSM466885 GSM466886 GSM466887\n",
       "1         5.974322  5.529198  5.905892  5.869029  5.450818  5.718872  5.972054 \n",
       "10        1.766114  1.478747  1.818198  1.889750  1.549316  1.932048  1.942990 \n",
       "100       6.340801  6.246526  6.246568  6.500481  6.035279  6.276709  5.721718 \n",
       "1000      3.279626  3.066588  3.461183  3.164990  3.017854  3.131056  3.603721 \n",
       "10000     4.696992  4.467682  3.750259  4.430248  4.604152  4.366680  4.818588 \n",
       "100008586 2.582434  2.682665  2.990375  2.120916  2.122672  2.633500  2.920980 \n",
       "          GSM466888 GSM466889 GSM466890 ⋯ GSM466899 GSM466900 GSM466901\n",
       "1         5.574497  5.248609  6.056391  ⋯ 5.762262  6.146706  5.674313 \n",
       "10        2.261588  1.634396  2.521888  ⋯ 2.064368  3.498965  1.904373 \n",
       "100       5.947306  6.225666  6.166099  ⋯ 6.168828  6.141265  6.081029 \n",
       "1000      3.109295  3.164006  3.897606  ⋯ 3.282294  3.653656  3.277332 \n",
       "10000     4.377542  4.968625  3.752643  ⋯ 4.687619  4.206344  4.889710 \n",
       "100008586 2.014738  2.598039  3.368453  ⋯ 3.730438  2.679535  2.463807 \n",
       "          GSM466902 GSM466903 GSM466904 GSM466905 GSM466906 GSM466907 GSM466908\n",
       "1         5.849043  5.326472  5.713848  5.585179  5.572774  6.004133  5.933502 \n",
       "10        1.877441  1.815903  1.847098  2.169656  1.537277  1.919092  2.457791 \n",
       "100       6.212898  6.266483  6.294748  6.297601  6.207059  6.594319  6.400845 \n",
       "1000      2.978603  3.848394  2.937089  3.739835  3.380353  3.449250  3.105334 \n",
       "10000     4.497731  4.431595  4.070111  4.120799  4.165406  3.863490  4.052750 \n",
       "100008586 1.928015  1.979664  2.896218  2.551836  2.482334  2.784737  3.352059 "
      ]
     },
     "metadata": {},
     "output_type": "display_data"
    }
   ],
   "source": [
    "# Take GSE18838 as example:\n",
    "\n",
    "head(read.table(\"data/raw_expr/GSE18838.csv\", sep = \",\", header = TRUE, row.names = 1, check.names = FALSE))"
   ]
  },
  {
   "cell_type": "markdown",
   "metadata": {},
   "source": [
    "### 4️⃣ Corresponding clinical/phenotype files, should be formatted as follows:\n",
    "- `Row Name`:   \n",
    "    - same sample identifiers as raw gene expression data file.\n",
    "- `Col Name`:  \n",
    "    - \"label\"\n",
    "- `Value`:     \n",
    "    - case / control labels for corresponding samples (\"control\" and \"PD\" used here)."
   ]
  },
  {
   "cell_type": "code",
   "execution_count": 14,
   "metadata": {
    "vscode": {
     "languageId": "r"
    }
   },
   "outputs": [
    {
     "data": {
      "text/html": [
       "<table class=\"dataframe\">\n",
       "<caption>A data.frame: 28 × 1</caption>\n",
       "<thead>\n",
       "\t<tr><th></th><th scope=col>label</th></tr>\n",
       "\t<tr><th></th><th scope=col>&lt;chr&gt;</th></tr>\n",
       "</thead>\n",
       "<tbody>\n",
       "\t<tr><th scope=row>GSM466881</th><td>PD     </td></tr>\n",
       "\t<tr><th scope=row>GSM466882</th><td>PD     </td></tr>\n",
       "\t<tr><th scope=row>GSM466883</th><td>PD     </td></tr>\n",
       "\t<tr><th scope=row>GSM466884</th><td>PD     </td></tr>\n",
       "\t<tr><th scope=row>GSM466885</th><td>PD     </td></tr>\n",
       "\t<tr><th scope=row>GSM466886</th><td>PD     </td></tr>\n",
       "\t<tr><th scope=row>GSM466887</th><td>PD     </td></tr>\n",
       "\t<tr><th scope=row>GSM466888</th><td>PD     </td></tr>\n",
       "\t<tr><th scope=row>GSM466889</th><td>PD     </td></tr>\n",
       "\t<tr><th scope=row>GSM466890</th><td>PD     </td></tr>\n",
       "\t<tr><th scope=row>GSM466891</th><td>PD     </td></tr>\n",
       "\t<tr><th scope=row>GSM466892</th><td>PD     </td></tr>\n",
       "\t<tr><th scope=row>GSM466893</th><td>PD     </td></tr>\n",
       "\t<tr><th scope=row>GSM466894</th><td>PD     </td></tr>\n",
       "\t<tr><th scope=row>GSM466895</th><td>PD     </td></tr>\n",
       "\t<tr><th scope=row>GSM466896</th><td>PD     </td></tr>\n",
       "\t<tr><th scope=row>GSM466897</th><td>PD     </td></tr>\n",
       "\t<tr><th scope=row>GSM466898</th><td>control</td></tr>\n",
       "\t<tr><th scope=row>GSM466899</th><td>control</td></tr>\n",
       "\t<tr><th scope=row>GSM466900</th><td>control</td></tr>\n",
       "\t<tr><th scope=row>GSM466901</th><td>control</td></tr>\n",
       "\t<tr><th scope=row>GSM466902</th><td>control</td></tr>\n",
       "\t<tr><th scope=row>GSM466903</th><td>control</td></tr>\n",
       "\t<tr><th scope=row>GSM466904</th><td>control</td></tr>\n",
       "\t<tr><th scope=row>GSM466905</th><td>control</td></tr>\n",
       "\t<tr><th scope=row>GSM466906</th><td>control</td></tr>\n",
       "\t<tr><th scope=row>GSM466907</th><td>control</td></tr>\n",
       "\t<tr><th scope=row>GSM466908</th><td>control</td></tr>\n",
       "</tbody>\n",
       "</table>\n"
      ],
      "text/latex": [
       "A data.frame: 28 × 1\n",
       "\\begin{tabular}{r|l}\n",
       "  & label\\\\\n",
       "  & <chr>\\\\\n",
       "\\hline\n",
       "\tGSM466881 & PD     \\\\\n",
       "\tGSM466882 & PD     \\\\\n",
       "\tGSM466883 & PD     \\\\\n",
       "\tGSM466884 & PD     \\\\\n",
       "\tGSM466885 & PD     \\\\\n",
       "\tGSM466886 & PD     \\\\\n",
       "\tGSM466887 & PD     \\\\\n",
       "\tGSM466888 & PD     \\\\\n",
       "\tGSM466889 & PD     \\\\\n",
       "\tGSM466890 & PD     \\\\\n",
       "\tGSM466891 & PD     \\\\\n",
       "\tGSM466892 & PD     \\\\\n",
       "\tGSM466893 & PD     \\\\\n",
       "\tGSM466894 & PD     \\\\\n",
       "\tGSM466895 & PD     \\\\\n",
       "\tGSM466896 & PD     \\\\\n",
       "\tGSM466897 & PD     \\\\\n",
       "\tGSM466898 & control\\\\\n",
       "\tGSM466899 & control\\\\\n",
       "\tGSM466900 & control\\\\\n",
       "\tGSM466901 & control\\\\\n",
       "\tGSM466902 & control\\\\\n",
       "\tGSM466903 & control\\\\\n",
       "\tGSM466904 & control\\\\\n",
       "\tGSM466905 & control\\\\\n",
       "\tGSM466906 & control\\\\\n",
       "\tGSM466907 & control\\\\\n",
       "\tGSM466908 & control\\\\\n",
       "\\end{tabular}\n"
      ],
      "text/markdown": [
       "\n",
       "A data.frame: 28 × 1\n",
       "\n",
       "| <!--/--> | label &lt;chr&gt; |\n",
       "|---|---|\n",
       "| GSM466881 | PD      |\n",
       "| GSM466882 | PD      |\n",
       "| GSM466883 | PD      |\n",
       "| GSM466884 | PD      |\n",
       "| GSM466885 | PD      |\n",
       "| GSM466886 | PD      |\n",
       "| GSM466887 | PD      |\n",
       "| GSM466888 | PD      |\n",
       "| GSM466889 | PD      |\n",
       "| GSM466890 | PD      |\n",
       "| GSM466891 | PD      |\n",
       "| GSM466892 | PD      |\n",
       "| GSM466893 | PD      |\n",
       "| GSM466894 | PD      |\n",
       "| GSM466895 | PD      |\n",
       "| GSM466896 | PD      |\n",
       "| GSM466897 | PD      |\n",
       "| GSM466898 | control |\n",
       "| GSM466899 | control |\n",
       "| GSM466900 | control |\n",
       "| GSM466901 | control |\n",
       "| GSM466902 | control |\n",
       "| GSM466903 | control |\n",
       "| GSM466904 | control |\n",
       "| GSM466905 | control |\n",
       "| GSM466906 | control |\n",
       "| GSM466907 | control |\n",
       "| GSM466908 | control |\n",
       "\n"
      ],
      "text/plain": [
       "          label  \n",
       "GSM466881 PD     \n",
       "GSM466882 PD     \n",
       "GSM466883 PD     \n",
       "GSM466884 PD     \n",
       "GSM466885 PD     \n",
       "GSM466886 PD     \n",
       "GSM466887 PD     \n",
       "GSM466888 PD     \n",
       "GSM466889 PD     \n",
       "GSM466890 PD     \n",
       "GSM466891 PD     \n",
       "GSM466892 PD     \n",
       "GSM466893 PD     \n",
       "GSM466894 PD     \n",
       "GSM466895 PD     \n",
       "GSM466896 PD     \n",
       "GSM466897 PD     \n",
       "GSM466898 control\n",
       "GSM466899 control\n",
       "GSM466900 control\n",
       "GSM466901 control\n",
       "GSM466902 control\n",
       "GSM466903 control\n",
       "GSM466904 control\n",
       "GSM466905 control\n",
       "GSM466906 control\n",
       "GSM466907 control\n",
       "GSM466908 control"
      ]
     },
     "metadata": {},
     "output_type": "display_data"
    }
   ],
   "source": [
    "# Take GSE18838 as example:\n",
    "\n",
    "read.table(\"data/raw_clin/GSE18838_pheno.csv\", sep = \",\", header = TRUE, row.names = 1, check.names = FALSE)"
   ]
  },
  {
   "cell_type": "markdown",
   "metadata": {},
   "source": [
    "### 5️⃣ Implement AWmeta for adaptively-weighted transcriptomic meta-analysis:"
   ]
  },
  {
   "cell_type": "code",
   "execution_count": 50,
   "metadata": {
    "vscode": {
     "languageId": "r"
    }
   },
   "outputs": [],
   "source": [
    "# Load AWmeta method:\n",
    "\n",
    "source(\"AWmeta.R\")"
   ]
  },
  {
   "cell_type": "code",
   "execution_count": 51,
   "metadata": {
    "vscode": {
     "languageId": "r"
    }
   },
   "outputs": [
    {
     "name": "stderr",
     "output_type": "stream",
     "text": [
      "Loading data...\n",
      "\n",
      "Setting up DE analysis parameters...\n",
      "\n",
      "Auto-detecting data types to assign DE methods:\n",
      "\n",
      "  - Study 'GSE165082': Detected discrete data.\n",
      "\n",
      "  - Study 'GSE18838': Detected continuous data.\n",
      "\n",
      "  - Study 'GSE34287': Detected continuous data.\n",
      "\n",
      "  - Study 'GSE54536': Detected continuous data.\n",
      "\n",
      "  - Study 'GSE57475': Detected continuous data.\n",
      "\n",
      "  - Study 'GSE6613': Detected continuous data.\n",
      "\n",
      "  - Study 'GSE72267': Detected continuous data.\n",
      "\n",
      "  - Study 'GSE99039': Detected continuous data.\n",
      "\n",
      "Performing differential expression analysis for each study...\n",
      "\n",
      "  - Analyzing study: GSE165082\n",
      "\n",
      "estimating size factors\n",
      "\n",
      "estimating dispersions\n",
      "\n",
      "gene-wise dispersion estimates\n",
      "\n",
      "mean-dispersion relationship\n",
      "\n",
      "final dispersion estimates\n",
      "\n",
      "fitting model and testing\n",
      "\n",
      "-- replacing outliers and refitting for 92 genes\n",
      "-- DESeq argument 'minReplicatesForReplace' = 7 \n",
      "-- original counts are preserved in counts(dds)\n",
      "\n",
      "estimating dispersions\n",
      "\n",
      "fitting model and testing\n",
      "\n"
     ]
    },
    {
     "name": "stdout",
     "output_type": "stream",
     "text": [
      "dataset 1 is done\n"
     ]
    },
    {
     "name": "stderr",
     "output_type": "stream",
     "text": [
      "  - Analyzing study: GSE18838\n",
      "\n"
     ]
    },
    {
     "name": "stdout",
     "output_type": "stream",
     "text": [
      "dataset 1 is done\n"
     ]
    },
    {
     "name": "stderr",
     "output_type": "stream",
     "text": [
      "  - Analyzing study: GSE34287\n",
      "\n"
     ]
    },
    {
     "name": "stdout",
     "output_type": "stream",
     "text": [
      "dataset 1 is done\n"
     ]
    },
    {
     "name": "stderr",
     "output_type": "stream",
     "text": [
      "  - Analyzing study: GSE54536\n",
      "\n"
     ]
    },
    {
     "name": "stdout",
     "output_type": "stream",
     "text": [
      "dataset 1 is done\n"
     ]
    },
    {
     "name": "stderr",
     "output_type": "stream",
     "text": [
      "  - Analyzing study: GSE57475\n",
      "\n"
     ]
    },
    {
     "name": "stdout",
     "output_type": "stream",
     "text": [
      "dataset 1 is done\n"
     ]
    },
    {
     "name": "stderr",
     "output_type": "stream",
     "text": [
      "  - Analyzing study: GSE6613\n",
      "\n"
     ]
    },
    {
     "name": "stdout",
     "output_type": "stream",
     "text": [
      "dataset 1 is done\n"
     ]
    },
    {
     "name": "stderr",
     "output_type": "stream",
     "text": [
      "  - Analyzing study: GSE72267\n",
      "\n"
     ]
    },
    {
     "name": "stdout",
     "output_type": "stream",
     "text": [
      "dataset 1 is done\n"
     ]
    },
    {
     "name": "stderr",
     "output_type": "stream",
     "text": [
      "  - Analyzing study: GSE99039\n",
      "\n"
     ]
    },
    {
     "name": "stdout",
     "output_type": "stream",
     "text": [
      "dataset 1 is done\n"
     ]
    },
    {
     "name": "stderr",
     "output_type": "stream",
     "text": [
      "Formatting p-values for meta-analysis...\n",
      "\n",
      "Running AW-Fisher to combine p-values...\n",
      "\n",
      "Calculating FDR...\n",
      "\n",
      "Preparing data for AWmeta fold-change calculation...\n",
      "\n",
      "Running AW-REM to calculate AWmeta fold-change using 30 CPU cores...\n",
      "\n",
      "Sorting results by P-value...\n",
      "\n",
      "Meta-analysis complete.\n",
      "\n"
     ]
    }
   ],
   "source": [
    "# Run AWmeta to implement adaptively-weighted transcriptomic meta-analysis:\n",
    "\n",
    "res <- AWmeta(\n",
    "  raw.data.dir  = \"./data/raw_expr\",           # A path to the raw expression data files\n",
    "  raw.clin.dir  = \"./data/raw_clin\",           # A path to the clinical/phenotype data files\n",
    "  raw.sep       = \",\",                         # Field separator used in raw expression and clinical/phenotype data files\n",
    "  DE.method     = c(\"DESeq2\", \"limma\"),        # DE method(s)\n",
    "  compare.group = c(\"control\", \"PD\"),          # Compared groups for DE analysis\n",
    "  ref.level     = \"control\",                   # Compared reference for DE analysis\n",
    "  paired        = FALSE,                       # Whether two-class samples are paired\n",
    "  core.num      = 30                           # Number of CPU cores to be used\n",
    ")"
   ]
  },
  {
   "cell_type": "markdown",
   "metadata": {},
   "source": [
    "### 6️⃣ Showcase AWmeta result:\n",
    "- `Row Name`:   \n",
    "    - gene identifier, e.g., Entrez Gene ID (used here), Ensembl gene ID, gene symbol.\n",
    "- `Col Name`:  \n",
    "    - per-study fold-changes, _P_-values, and AW weights.\n",
    "    - AWmeta-derived _P_-values, FDRs and fold-changes."
   ]
  },
  {
   "cell_type": "code",
   "execution_count": 52,
   "metadata": {
    "vscode": {
     "languageId": "r"
    }
   },
   "outputs": [
    {
     "data": {
      "text/html": [
       "<table class=\"dataframe\">\n",
       "<caption>A data.frame: 6 × 27</caption>\n",
       "<thead>\n",
       "\t<tr><th></th><th scope=col>GSE165082_FC</th><th scope=col>GSE18838_FC</th><th scope=col>GSE34287_FC</th><th scope=col>GSE54536_FC</th><th scope=col>GSE57475_FC</th><th scope=col>GSE6613_FC</th><th scope=col>GSE72267_FC</th><th scope=col>GSE99039_FC</th><th scope=col>GSE165082_Pvalue</th><th scope=col>GSE18838_Pvalue</th><th scope=col>⋯</th><th scope=col>GSE18838_AWmeta_Weight</th><th scope=col>GSE34287_AWmeta_Weight</th><th scope=col>GSE54536_AWmeta_Weight</th><th scope=col>GSE57475_AWmeta_Weight</th><th scope=col>GSE6613_AWmeta_Weight</th><th scope=col>GSE72267_AWmeta_Weight</th><th scope=col>GSE99039_AWmeta_Weight</th><th scope=col>AWmeta_P_value</th><th scope=col>AWmeta_FDR</th><th scope=col>AWmeta_FC</th></tr>\n",
       "\t<tr><th></th><th scope=col>&lt;dbl&gt;</th><th scope=col>&lt;dbl&gt;</th><th scope=col>&lt;dbl&gt;</th><th scope=col>&lt;dbl&gt;</th><th scope=col>&lt;dbl&gt;</th><th scope=col>&lt;dbl&gt;</th><th scope=col>&lt;dbl&gt;</th><th scope=col>&lt;dbl&gt;</th><th scope=col>&lt;dbl&gt;</th><th scope=col>&lt;dbl&gt;</th><th scope=col>⋯</th><th scope=col>&lt;dbl&gt;</th><th scope=col>&lt;dbl&gt;</th><th scope=col>&lt;dbl&gt;</th><th scope=col>&lt;dbl&gt;</th><th scope=col>&lt;dbl&gt;</th><th scope=col>&lt;dbl&gt;</th><th scope=col>&lt;dbl&gt;</th><th scope=col>&lt;dbl&gt;</th><th scope=col>&lt;dbl&gt;</th><th scope=col>&lt;dbl&gt;</th></tr>\n",
       "</thead>\n",
       "<tbody>\n",
       "\t<tr><th scope=row>5730</th><td> 0.16978281</td><td>-0.2657432</td><td> 0.7763220</td><td> 0.05504498</td><td>0.305381866</td><td>-0.1638967</td><td>0.3802264</td><td>0.4190457</td><td>0.6008361</td><td>0.070003486</td><td>⋯</td><td> 0</td><td>0</td><td>0</td><td>1</td><td> 0</td><td> 0</td><td>1</td><td>8.835110e-09</td><td>0.0001072630</td><td>0.39957567</td></tr>\n",
       "\t<tr><th scope=row>6404</th><td>-0.16005029</td><td>-0.8533483</td><td> 0.1094780</td><td> 0.47841000</td><td>0.522559318</td><td>-0.3024088</td><td>0.0140958</td><td>0.1847864</td><td>0.3368307</td><td>0.002511431</td><td>⋯</td><td> 1</td><td>0</td><td>1</td><td>1</td><td> 0</td><td> 0</td><td>1</td><td>8.937094e-09</td><td>0.0001072630</td><td>0.11170200</td></tr>\n",
       "\t<tr><th scope=row>3107</th><td>-0.07907529</td><td>-0.3542387</td><td> 0.7776831</td><td> 1.87841569</td><td>0.463393489</td><td> 0.1237813</td><td>0.2048841</td><td>0.1694564</td><td>0.6539423</td><td>0.046168516</td><td>⋯</td><td> 1</td><td>0</td><td>1</td><td>1</td><td> 0</td><td> 1</td><td>1</td><td>2.584098e-08</td><td>0.0002067623</td><td>0.40593148</td></tr>\n",
       "\t<tr><th scope=row>222487</th><td>-0.19547606</td><td>-0.4686609</td><td> 0.7988970</td><td> 0.29980032</td><td>0.264581027</td><td> 0.3074672</td><td>0.3574406</td><td>0.3886088</td><td>0.2800083</td><td>0.111064401</td><td>⋯</td><td> 1</td><td>0</td><td>1</td><td>1</td><td> 1</td><td> 1</td><td>1</td><td>1.000800e-07</td><td>0.0005266034</td><td>0.31473664</td></tr>\n",
       "\t<tr><th scope=row>3804</th><td> 0.17793672</td><td>-0.7742791</td><td>-0.2087129</td><td> 0.69469457</td><td>0.375824507</td><td>-0.1098050</td><td>0.1500876</td><td>0.2493906</td><td>0.7067727</td><td>0.023042608</td><td>⋯</td><td> 1</td><td>0</td><td>0</td><td>1</td><td> 0</td><td> 0</td><td>1</td><td>1.096908e-07</td><td>0.0005266034</td><td>0.01174222</td></tr>\n",
       "\t<tr><th scope=row>139189</th><td>         NA</td><td>        NA</td><td> 0.1137890</td><td>-0.02825487</td><td>0.002139725</td><td>        NA</td><td>       NA</td><td>0.2180996</td><td>       NA</td><td>         NA</td><td>⋯</td><td>NA</td><td>0</td><td>0</td><td>0</td><td>NA</td><td>NA</td><td>1</td><td>1.399690e-07</td><td>0.0005599694</td><td>0.21809959</td></tr>\n",
       "</tbody>\n",
       "</table>\n"
      ],
      "text/latex": [
       "A data.frame: 6 × 27\n",
       "\\begin{tabular}{r|lllllllllllllllllllll}\n",
       "  & GSE165082\\_FC & GSE18838\\_FC & GSE34287\\_FC & GSE54536\\_FC & GSE57475\\_FC & GSE6613\\_FC & GSE72267\\_FC & GSE99039\\_FC & GSE165082\\_Pvalue & GSE18838\\_Pvalue & ⋯ & GSE18838\\_AWmeta\\_Weight & GSE34287\\_AWmeta\\_Weight & GSE54536\\_AWmeta\\_Weight & GSE57475\\_AWmeta\\_Weight & GSE6613\\_AWmeta\\_Weight & GSE72267\\_AWmeta\\_Weight & GSE99039\\_AWmeta\\_Weight & AWmeta\\_P\\_value & AWmeta\\_FDR & AWmeta\\_FC\\\\\n",
       "  & <dbl> & <dbl> & <dbl> & <dbl> & <dbl> & <dbl> & <dbl> & <dbl> & <dbl> & <dbl> & ⋯ & <dbl> & <dbl> & <dbl> & <dbl> & <dbl> & <dbl> & <dbl> & <dbl> & <dbl> & <dbl>\\\\\n",
       "\\hline\n",
       "\t5730 &  0.16978281 & -0.2657432 &  0.7763220 &  0.05504498 & 0.305381866 & -0.1638967 & 0.3802264 & 0.4190457 & 0.6008361 & 0.070003486 & ⋯ &  0 & 0 & 0 & 1 &  0 &  0 & 1 & 8.835110e-09 & 0.0001072630 & 0.39957567\\\\\n",
       "\t6404 & -0.16005029 & -0.8533483 &  0.1094780 &  0.47841000 & 0.522559318 & -0.3024088 & 0.0140958 & 0.1847864 & 0.3368307 & 0.002511431 & ⋯ &  1 & 0 & 1 & 1 &  0 &  0 & 1 & 8.937094e-09 & 0.0001072630 & 0.11170200\\\\\n",
       "\t3107 & -0.07907529 & -0.3542387 &  0.7776831 &  1.87841569 & 0.463393489 &  0.1237813 & 0.2048841 & 0.1694564 & 0.6539423 & 0.046168516 & ⋯ &  1 & 0 & 1 & 1 &  0 &  1 & 1 & 2.584098e-08 & 0.0002067623 & 0.40593148\\\\\n",
       "\t222487 & -0.19547606 & -0.4686609 &  0.7988970 &  0.29980032 & 0.264581027 &  0.3074672 & 0.3574406 & 0.3886088 & 0.2800083 & 0.111064401 & ⋯ &  1 & 0 & 1 & 1 &  1 &  1 & 1 & 1.000800e-07 & 0.0005266034 & 0.31473664\\\\\n",
       "\t3804 &  0.17793672 & -0.7742791 & -0.2087129 &  0.69469457 & 0.375824507 & -0.1098050 & 0.1500876 & 0.2493906 & 0.7067727 & 0.023042608 & ⋯ &  1 & 0 & 0 & 1 &  0 &  0 & 1 & 1.096908e-07 & 0.0005266034 & 0.01174222\\\\\n",
       "\t139189 &          NA &         NA &  0.1137890 & -0.02825487 & 0.002139725 &         NA &        NA & 0.2180996 &        NA &          NA & ⋯ & NA & 0 & 0 & 0 & NA & NA & 1 & 1.399690e-07 & 0.0005599694 & 0.21809959\\\\\n",
       "\\end{tabular}\n"
      ],
      "text/markdown": [
       "\n",
       "A data.frame: 6 × 27\n",
       "\n",
       "| <!--/--> | GSE165082_FC &lt;dbl&gt; | GSE18838_FC &lt;dbl&gt; | GSE34287_FC &lt;dbl&gt; | GSE54536_FC &lt;dbl&gt; | GSE57475_FC &lt;dbl&gt; | GSE6613_FC &lt;dbl&gt; | GSE72267_FC &lt;dbl&gt; | GSE99039_FC &lt;dbl&gt; | GSE165082_Pvalue &lt;dbl&gt; | GSE18838_Pvalue &lt;dbl&gt; | ⋯ ⋯ | GSE18838_AWmeta_Weight &lt;dbl&gt; | GSE34287_AWmeta_Weight &lt;dbl&gt; | GSE54536_AWmeta_Weight &lt;dbl&gt; | GSE57475_AWmeta_Weight &lt;dbl&gt; | GSE6613_AWmeta_Weight &lt;dbl&gt; | GSE72267_AWmeta_Weight &lt;dbl&gt; | GSE99039_AWmeta_Weight &lt;dbl&gt; | AWmeta_P_value &lt;dbl&gt; | AWmeta_FDR &lt;dbl&gt; | AWmeta_FC &lt;dbl&gt; |\n",
       "|---|---|---|---|---|---|---|---|---|---|---|---|---|---|---|---|---|---|---|---|---|---|\n",
       "| 5730 |  0.16978281 | -0.2657432 |  0.7763220 |  0.05504498 | 0.305381866 | -0.1638967 | 0.3802264 | 0.4190457 | 0.6008361 | 0.070003486 | ⋯ |  0 | 0 | 0 | 1 |  0 |  0 | 1 | 8.835110e-09 | 0.0001072630 | 0.39957567 |\n",
       "| 6404 | -0.16005029 | -0.8533483 |  0.1094780 |  0.47841000 | 0.522559318 | -0.3024088 | 0.0140958 | 0.1847864 | 0.3368307 | 0.002511431 | ⋯ |  1 | 0 | 1 | 1 |  0 |  0 | 1 | 8.937094e-09 | 0.0001072630 | 0.11170200 |\n",
       "| 3107 | -0.07907529 | -0.3542387 |  0.7776831 |  1.87841569 | 0.463393489 |  0.1237813 | 0.2048841 | 0.1694564 | 0.6539423 | 0.046168516 | ⋯ |  1 | 0 | 1 | 1 |  0 |  1 | 1 | 2.584098e-08 | 0.0002067623 | 0.40593148 |\n",
       "| 222487 | -0.19547606 | -0.4686609 |  0.7988970 |  0.29980032 | 0.264581027 |  0.3074672 | 0.3574406 | 0.3886088 | 0.2800083 | 0.111064401 | ⋯ |  1 | 0 | 1 | 1 |  1 |  1 | 1 | 1.000800e-07 | 0.0005266034 | 0.31473664 |\n",
       "| 3804 |  0.17793672 | -0.7742791 | -0.2087129 |  0.69469457 | 0.375824507 | -0.1098050 | 0.1500876 | 0.2493906 | 0.7067727 | 0.023042608 | ⋯ |  1 | 0 | 0 | 1 |  0 |  0 | 1 | 1.096908e-07 | 0.0005266034 | 0.01174222 |\n",
       "| 139189 |          NA |         NA |  0.1137890 | -0.02825487 | 0.002139725 |         NA |        NA | 0.2180996 |        NA |          NA | ⋯ | NA | 0 | 0 | 0 | NA | NA | 1 | 1.399690e-07 | 0.0005599694 | 0.21809959 |\n",
       "\n"
      ],
      "text/plain": [
       "       GSE165082_FC GSE18838_FC GSE34287_FC GSE54536_FC GSE57475_FC GSE6613_FC\n",
       "5730    0.16978281  -0.2657432   0.7763220   0.05504498 0.305381866 -0.1638967\n",
       "6404   -0.16005029  -0.8533483   0.1094780   0.47841000 0.522559318 -0.3024088\n",
       "3107   -0.07907529  -0.3542387   0.7776831   1.87841569 0.463393489  0.1237813\n",
       "222487 -0.19547606  -0.4686609   0.7988970   0.29980032 0.264581027  0.3074672\n",
       "3804    0.17793672  -0.7742791  -0.2087129   0.69469457 0.375824507 -0.1098050\n",
       "139189          NA          NA   0.1137890  -0.02825487 0.002139725         NA\n",
       "       GSE72267_FC GSE99039_FC GSE165082_Pvalue GSE18838_Pvalue ⋯\n",
       "5730   0.3802264   0.4190457   0.6008361        0.070003486     ⋯\n",
       "6404   0.0140958   0.1847864   0.3368307        0.002511431     ⋯\n",
       "3107   0.2048841   0.1694564   0.6539423        0.046168516     ⋯\n",
       "222487 0.3574406   0.3886088   0.2800083        0.111064401     ⋯\n",
       "3804   0.1500876   0.2493906   0.7067727        0.023042608     ⋯\n",
       "139189        NA   0.2180996          NA                 NA     ⋯\n",
       "       GSE18838_AWmeta_Weight GSE34287_AWmeta_Weight GSE54536_AWmeta_Weight\n",
       "5730    0                     0                      0                     \n",
       "6404    1                     0                      1                     \n",
       "3107    1                     0                      1                     \n",
       "222487  1                     0                      1                     \n",
       "3804    1                     0                      0                     \n",
       "139189 NA                     0                      0                     \n",
       "       GSE57475_AWmeta_Weight GSE6613_AWmeta_Weight GSE72267_AWmeta_Weight\n",
       "5730   1                       0                     0                    \n",
       "6404   1                       0                     0                    \n",
       "3107   1                       0                     1                    \n",
       "222487 1                       1                     1                    \n",
       "3804   1                       0                     0                    \n",
       "139189 0                      NA                    NA                    \n",
       "       GSE99039_AWmeta_Weight AWmeta_P_value AWmeta_FDR   AWmeta_FC \n",
       "5730   1                      8.835110e-09   0.0001072630 0.39957567\n",
       "6404   1                      8.937094e-09   0.0001072630 0.11170200\n",
       "3107   1                      2.584098e-08   0.0002067623 0.40593148\n",
       "222487 1                      1.000800e-07   0.0005266034 0.31473664\n",
       "3804   1                      1.096908e-07   0.0005266034 0.01174222\n",
       "139189 1                      1.399690e-07   0.0005599694 0.21809959"
      ]
     },
     "metadata": {},
     "output_type": "display_data"
    }
   ],
   "source": [
    "head(res)"
   ]
  }
 ],
 "metadata": {
  "kernelspec": {
   "display_name": "R",
   "language": "R",
   "name": "ir"
  },
  "language_info": {
   "codemirror_mode": "r",
   "file_extension": ".r",
   "mimetype": "text/x-r-source",
   "name": "R",
   "pygments_lexer": "r",
   "version": "4.1.0"
  }
 },
 "nbformat": 4,
 "nbformat_minor": 2
}
